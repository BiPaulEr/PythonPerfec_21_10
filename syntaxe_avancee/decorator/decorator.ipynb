{
 "cells": [
  {
   "cell_type": "code",
   "execution_count": 10,
   "id": "41819381-3c8e-43b1-8f11-ef5ad446938c",
   "metadata": {},
   "outputs": [
    {
     "name": "stdout",
     "output_type": "stream",
     "text": [
      "Instruction avant\n",
      "Je suis dans la fonction\n",
      "Instruction après\n",
      "Instruction avant\n",
      "Je suis dans la fonction de la 2\n",
      "Instruction après\n"
     ]
    }
   ],
   "source": [
    "def decorator(function):\n",
    "    def wrapper():\n",
    "        print(\"Instruction avant\")\n",
    "        function()\n",
    "        print(\"Instruction après\")\n",
    "    return wrapper\n",
    "\n",
    "@decorator\n",
    "def function_simple():\n",
    "    print(\"Je suis dans la fonction\")\n",
    "    \n",
    "@decorator\n",
    "def function_simple_2():\n",
    "    print(\"Je suis dans la fonction de la 2\")\n",
    "    \n",
    "function_simple()\n",
    "function_simple_2()"
   ]
  },
  {
   "cell_type": "code",
   "execution_count": 7,
   "id": "8f16d35b-0d1f-47ca-a10a-0f9acb33c413",
   "metadata": {},
   "outputs": [
    {
     "name": "stdout",
     "output_type": "stream",
     "text": [
      "Instruction avant\n",
      "Je suis dans la fonction\n",
      "Instruction après\n"
     ]
    }
   ],
   "source": [
    "function_simple = decorator(function_simple)\n",
    "function_simple()"
   ]
  },
  {
   "cell_type": "code",
   "execution_count": 75,
   "id": "8a77b31b-4f7b-4dbf-b3fe-c8d0a556e3f3",
   "metadata": {},
   "outputs": [
    {
     "name": "stdout",
     "output_type": "stream",
     "text": [
      "Je suis dans la fonction\n",
      " time : 3.0004351139068604\n"
     ]
    }
   ],
   "source": [
    "import time\n",
    "def benchmark(function):\n",
    "    def wrapper(*args):\n",
    "        begin = time.time()\n",
    "        result = function(*args)\n",
    "        end = time.time()\n",
    "        print(f\" time : { end - begin}\")\n",
    "        return result\n",
    "    return wrapper\n",
    "\n",
    "@benchmark\n",
    "def function_a():\n",
    "    time.sleep(3)\n",
    "    print(\"Je suis dans la fonction\")\n",
    "\n",
    "function_a()"
   ]
  },
  {
   "cell_type": "code",
   "execution_count": 44,
   "id": "4db1c9c9-f15b-4fa6-b4b5-cb447dcb09d0",
   "metadata": {},
   "outputs": [
    {
     "name": "stdout",
     "output_type": "stream",
     "text": [
      "Instruction avant\n",
      "Bonjour paul martin 80\n",
      "Instruction après\n"
     ]
    }
   ],
   "source": [
    "def decorator(function):\n",
    "    def wrapper(*args, **kwargs):\n",
    "        print(\"Instruction avant\")   \n",
    "        liste = []\n",
    "        for a in args:\n",
    "            liste.append(a.lower())\n",
    "        args = tuple(liste)\n",
    "        function(*args, **kwargs)\n",
    "        print(\"Instruction après\")\n",
    "    return wrapper\n",
    "    \n",
    "@decorator\n",
    "def function_polie(prenom, nom, age = 18):\n",
    "    print(f\"Bonjour {prenom} {nom} {age}\")\n",
    "    \n",
    "function_polie(\"PAul\", \"MARTIN\", age = 80)"
   ]
  },
  {
   "cell_type": "code",
   "execution_count": 24,
   "id": "50402bc8-cda2-4112-b29a-248eac99d892",
   "metadata": {},
   "outputs": [
    {
     "name": "stdout",
     "output_type": "stream",
     "text": [
      "(1, 2)\n"
     ]
    }
   ],
   "source": [
    "def function(*args):\n",
    "    print(args)\n",
    "\n",
    "function(1, 2)"
   ]
  },
  {
   "cell_type": "code",
   "execution_count": 26,
   "id": "7cb8a424-186c-4a82-b940-2ee8258bb67f",
   "metadata": {},
   "outputs": [
    {
     "name": "stdout",
     "output_type": "stream",
     "text": [
      "1 3\n"
     ]
    }
   ],
   "source": [
    "def function2(a, b):\n",
    "    print(a, b)\n",
    "tuples = (1,3)\n",
    "function2(*tuples)"
   ]
  },
  {
   "cell_type": "code",
   "execution_count": 39,
   "id": "67ac30db-708e-4e89-a2c6-b50d4729c3fd",
   "metadata": {},
   "outputs": [
    {
     "name": "stdout",
     "output_type": "stream",
     "text": [
      "1 4 18 {'cacaheute': 45, 'e': 5}\n"
     ]
    }
   ],
   "source": [
    "def function(a = 3, b = 4, d = 4, **kwargs):\n",
    "    print(a, b, d, kwargs)\n",
    "\n",
    "function(d = 18, cacaheute=45, e = 5, a =1)\n",
    "    "
   ]
  },
  {
   "cell_type": "code",
   "execution_count": 41,
   "id": "a2fa0dc6-89a7-45ab-bd9b-1a93921a8175",
   "metadata": {},
   "outputs": [
    {
     "name": "stdout",
     "output_type": "stream",
     "text": [
      "-1 -1 A {}\n"
     ]
    }
   ],
   "source": [
    "dictionnaire = {\"a\" : -1, \"b\":-1, \"d\":\"A\"}\n",
    "function(**dictionnaire)"
   ]
  },
  {
   "cell_type": "code",
   "execution_count": 43,
   "id": "c09f9d96-fd93-449f-831c-e30d6d6e3f1f",
   "metadata": {},
   "outputs": [
    {
     "ename": "TypeError",
     "evalue": "'tuple' object does not support item assignment",
     "output_type": "error",
     "traceback": [
      "\u001b[31m---------------------------------------------------------------------------\u001b[39m",
      "\u001b[31mTypeError\u001b[39m                                 Traceback (most recent call last)",
      "\u001b[36mCell\u001b[39m\u001b[36m \u001b[39m\u001b[32mIn[43]\u001b[39m\u001b[32m, line 2\u001b[39m\n\u001b[32m      1\u001b[39m r = (\u001b[32m3\u001b[39m, \u001b[32m4\u001b[39m)\n\u001b[32m----> \u001b[39m\u001b[32m2\u001b[39m \u001b[43mr\u001b[49m\u001b[43m[\u001b[49m\u001b[32;43m0\u001b[39;49m\u001b[43m]\u001b[49m = \u001b[32m6\u001b[39m\n",
      "\u001b[31mTypeError\u001b[39m: 'tuple' object does not support item assignment"
     ]
    }
   ],
   "source": [
    "r = (3, 4)\n",
    "r[0] = 6"
   ]
  },
  {
   "cell_type": "code",
   "execution_count": 52,
   "id": "25b8c77b-e23a-4a0f-9978-3a88dba3904d",
   "metadata": {},
   "outputs": [
    {
     "name": "stdout",
     "output_type": "stream",
     "text": [
      "Instruction avant\n",
      "bonjour paul martin 80\n",
      "bonjour paul martin 80\n",
      "bonjour paul martin 80\n",
      "bonjour paul martin 80\n",
      "bonjour paul martin 80\n",
      "bonjour paul martin 80\n",
      "bonjour paul martin 80\n",
      "bonjour paul martin 80\n",
      "bonjour paul martin 80\n",
      "bonjour paul martin 80\n",
      "Instruction après\n"
     ]
    }
   ],
   "source": [
    "def decoratoravecargument(repetition, func):\n",
    "    def decorator(function):\n",
    "        def wrapper(*args, **kwargs):\n",
    "            print(\"Instruction avant\")   \n",
    "            for i in range(0, repetition):\n",
    "                print(func(function(*args, **kwargs)))\n",
    "            print(\"Instruction après\")\n",
    "        return wrapper\n",
    "    return decorator\n",
    "    \n",
    "@decoratoravecargument(10, lambda x : x.lower())\n",
    "def function_polie(prenom, nom, age = 18):\n",
    "    return f\"Bonjour {prenom} {nom} {age}\"\n",
    "    \n",
    "function_polie(\"PAul\", \"MARTIN\", age = 80)"
   ]
  },
  {
   "cell_type": "code",
   "execution_count": 68,
   "id": "7f8f0614-d8d4-426a-96e0-e215dd2bc7f1",
   "metadata": {},
   "outputs": [
    {
     "name": "stdout",
     "output_type": "stream",
     "text": [
      "['A', 'B', 'A', 'B', 'A', 'B', 'A', 'B']\n",
      "Nombre d'arguments pos not good 3 != 2\n",
      "None\n",
      "Type not good 4.5 : <class 'float'> != <class 'int'>\n",
      "None\n"
     ]
    }
   ],
   "source": [
    "def decoratorwitharg(liste_type):\n",
    "    def decorator(function):\n",
    "        def wrapper(*args):\n",
    "            if len(args) != len(liste_type):\n",
    "                print(f\"Nombre d'arguments pos not good {len(args)} != {len(liste_type)}\")\n",
    "                return\n",
    "            for val, type_ in zip(args, liste_type):\n",
    "                if not isinstance(val, type_):\n",
    "                    print(f\"Type not good {val} : {type(val)} != {type_}\")\n",
    "                    return \n",
    "            return function(*args)\n",
    "        return wrapper\n",
    "    return decorator\n",
    "    \n",
    "#@decoratorwitharg([list, int])\n",
    "def function(liste, repetition):\n",
    "    return liste * repetition\n",
    "function_decore = decoratorwitharg([list, int])(function)\n",
    "\n",
    "print(function_decore([\"A\", \"B\"], 4))\n",
    "print(function_decore([\"A\", \"B\"], 4, 5))\n",
    "print(function_decore([\"A\", \"B\"], 4.5))"
   ]
  },
  {
   "cell_type": "code",
   "execution_count": 61,
   "id": "092da65c-0c75-4d9d-8665-dec5f4319f5c",
   "metadata": {},
   "outputs": [
    {
     "name": "stdout",
     "output_type": "stream",
     "text": [
      "[('A', '1'), ('B', '2'), ('C', '3')]\n",
      "A 1\n",
      "B 2\n",
      "C 3\n"
     ]
    }
   ],
   "source": [
    "liste = [\"A\", \"B\", \"C\", \"D\"]\n",
    "liste2 = [\"1\", \"2\", \"3\"]\n",
    "print(list(zip(liste, liste2)))\n",
    "for val1, val2 in zip(liste, liste2):\n",
    "    print(val1, val2)"
   ]
  },
  {
   "cell_type": "code",
   "execution_count": 78,
   "id": "adb8c87e-cc04-4866-8867-ca8d2b115f03",
   "metadata": {},
   "outputs": [
    {
     "name": "stdout",
     "output_type": "stream",
     "text": [
      "(3, 6) with 9 in the dict\n",
      " time : 2.0002145767211914\n",
      "9\n",
      "(4, 10) with 14 in the dict\n",
      " time : 2.0006210803985596\n",
      "14\n",
      "cached\n",
      " time : 0.0\n",
      "9\n",
      "cached\n",
      " time : 0.0\n",
      "9\n",
      "(-1, 6) with 5 in the dict\n",
      " time : 2.000624656677246\n",
      "5\n"
     ]
    }
   ],
   "source": [
    "def cache(function):\n",
    "    dictionnaire = {}\n",
    "    def wrapper(*args):\n",
    "        if args in dictionnaire:\n",
    "            print(\"cached\")\n",
    "            return dictionnaire[args] \n",
    "        result =  function(*args)\n",
    "        dictionnaire[args] = result\n",
    "        print(f\"{args} with {result} in the dict\")\n",
    "        return result      \n",
    "    return wrapper\n",
    "    \n",
    "@benchmark  \n",
    "@cache\n",
    "def function_lourde(a, b):     \n",
    "    time.sleep(2)\n",
    "    return a + b\n",
    "#function_lourde = benchmark( cache ( function_lourde))\n",
    "print(function_lourde(3, 6))\n",
    "print(function_lourde(4, 10))\n",
    "print(function_lourde(3, 6))\n",
    "print(function_lourde(3, 6))\n",
    "print(function_lourde(-1, 6))"
   ]
  },
  {
   "cell_type": "code",
   "execution_count": null,
   "id": "ca63f0d4-fd97-4deb-a446-cbfd431aa1c7",
   "metadata": {},
   "outputs": [],
   "source": [
    "def quiestlepatron(cls):\n",
    "    cls. ...\n"
   ]
  },
  {
   "cell_type": "code",
   "execution_count": 82,
   "id": "3d3bf879-7dd0-4b9c-9537-f6897185b173",
   "metadata": {},
   "outputs": [],
   "source": [
    "def benchamrk(message = \"benchmark\"):\n",
    "    def decorator(function):\n",
    "        def wrapper(*args, **kwargs):\n",
    "            begin = time.time()\n",
    "            result =  function(*args, **kwargs)\n",
    "            end = time.time()\n",
    "            print(f\"{message} {end - begin}\")\n",
    "            return result\n",
    "        return wrapper\n",
    "    return decorator\n",
    "\n",
    "@benchamrk(message = \"OK\")\n",
    "def function():\n",
    "    time.sleep(3)\n",
    "    print(\"function\")"
   ]
  },
  {
   "cell_type": "code",
   "execution_count": 83,
   "id": "c211a3db-ff53-4a4d-a56c-a447430bd425",
   "metadata": {},
   "outputs": [
    {
     "name": "stdout",
     "output_type": "stream",
     "text": [
      "function\n",
      "OK 3.000178337097168\n"
     ]
    }
   ],
   "source": [
    "function()"
   ]
  },
  {
   "cell_type": "code",
   "execution_count": 87,
   "id": "c9e953e2-e8f4-4d94-81ab-e71e0e684f75",
   "metadata": {},
   "outputs": [
    {
     "name": "stdout",
     "output_type": "stream",
     "text": [
      "compute sum executed with 1 2\n",
      "compute sum executed with 1 3\n",
      "compute sum executed with 1 4\n",
      "compute sum executed with 1 5\n",
      " suppression de (1, 2)\n",
      "compute sum executed with 1 2\n",
      " suppression de (1, 3)\n",
      "cached used\n"
     ]
    },
    {
     "data": {
      "text/plain": [
       "3"
      ]
     },
     "execution_count": 87,
     "metadata": {},
     "output_type": "execute_result"
    }
   ],
   "source": [
    "from collections import OrderedDict\n",
    "\n",
    "def cached_limit(limit):\n",
    "    def cached(function):\n",
    "        cache = {}\n",
    "        def wrapper(*args):\n",
    "            if args in cache:\n",
    "                print(\"cached used\")\n",
    "                cache.move_to_end(args)\n",
    "                return cache[args]\n",
    "            \n",
    "            result = function(*args)\n",
    "            if len(cache) >= limit:\n",
    "                print(f\" suppression\")\n",
    "                cache.pop_item(last=False)\n",
    "            cache[args] = result\n",
    "            cache.move_to_end(args)\n",
    "            return result\n",
    "        return wrapper\n",
    "    return cached\n",
    "\n",
    "@cached_limit(3)\n",
    "def compute_sum(a, b):\n",
    "    print(f\"compute sum executed with {a} {b}\")\n",
    "    time.sleep(2)\n",
    "    return a + b\n",
    "\n",
    "compute_sum(1, 2)\n",
    "\n",
    "compute_sum(1, 3)\n",
    "compute_sum(1, 4)\n",
    "compute_sum(1, 5)\n",
    "compute_sum(1, 2)\n",
    "\n",
    "compute_sum(1, 2)"
   ]
  },
  {
   "cell_type": "code",
   "execution_count": null,
   "id": "790d70f2-7a5f-4a64-86a5-0cfbbcaf2ada",
   "metadata": {},
   "outputs": [],
   "source": [
    "dict \n",
    "list \n",
    "\n",
    "\n",
    "from collections import UserDict\n",
    "\n",
    "class PasDe : UserDict"
   ]
  }
 ],
 "metadata": {
  "kernelspec": {
   "display_name": "Python 3 (ipykernel)",
   "language": "python",
   "name": "python3"
  },
  "language_info": {
   "codemirror_mode": {
    "name": "ipython",
    "version": 3
   },
   "file_extension": ".py",
   "mimetype": "text/x-python",
   "name": "python",
   "nbconvert_exporter": "python",
   "pygments_lexer": "ipython3",
   "version": "3.12.8"
  }
 },
 "nbformat": 4,
 "nbformat_minor": 5
}
