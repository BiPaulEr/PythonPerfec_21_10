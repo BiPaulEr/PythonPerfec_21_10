{
 "cells": [
  {
   "cell_type": "code",
   "execution_count": 1,
   "id": "f743fc90-79d7-4465-b75c-1f990dfe4929",
   "metadata": {},
   "outputs": [],
   "source": [
    "i = iter(\"ABC\")"
   ]
  },
  {
   "cell_type": "code",
   "execution_count": 2,
   "id": "85da0f11-f9ee-4469-8e3b-6792b308fb57",
   "metadata": {},
   "outputs": [
    {
     "data": {
      "text/plain": [
       "'A'"
      ]
     },
     "execution_count": 2,
     "metadata": {},
     "output_type": "execute_result"
    }
   ],
   "source": [
    "next(i)"
   ]
  },
  {
   "cell_type": "code",
   "execution_count": 3,
   "id": "a4b09a2d-53d5-46dd-a7ac-c3b3696dc8e0",
   "metadata": {},
   "outputs": [
    {
     "data": {
      "text/plain": [
       "'B'"
      ]
     },
     "execution_count": 3,
     "metadata": {},
     "output_type": "execute_result"
    }
   ],
   "source": [
    "next(i)"
   ]
  },
  {
   "cell_type": "code",
   "execution_count": 4,
   "id": "a33ad54f-bb08-4987-8deb-91455c0a5825",
   "metadata": {},
   "outputs": [
    {
     "data": {
      "text/plain": [
       "'C'"
      ]
     },
     "execution_count": 4,
     "metadata": {},
     "output_type": "execute_result"
    }
   ],
   "source": [
    "next(i)"
   ]
  },
  {
   "cell_type": "code",
   "execution_count": 5,
   "id": "0243aa47-a699-45b2-98a6-f13811e21ff0",
   "metadata": {},
   "outputs": [
    {
     "ename": "StopIteration",
     "evalue": "",
     "output_type": "error",
     "traceback": [
      "\u001b[31m---------------------------------------------------------------------------\u001b[39m",
      "\u001b[31mStopIteration\u001b[39m                             Traceback (most recent call last)",
      "\u001b[36mCell\u001b[39m\u001b[36m \u001b[39m\u001b[32mIn[5]\u001b[39m\u001b[32m, line 1\u001b[39m\n\u001b[32m----> \u001b[39m\u001b[32m1\u001b[39m \u001b[38;5;28;43mnext\u001b[39;49m\u001b[43m(\u001b[49m\u001b[43mi\u001b[49m\u001b[43m)\u001b[49m\n",
      "\u001b[31mStopIteration\u001b[39m: "
     ]
    }
   ],
   "source": [
    "next(i)"
   ]
  },
  {
   "cell_type": "code",
   "execution_count": 6,
   "id": "ffe80c42-3b9f-4c0a-974e-bad79a2e9672",
   "metadata": {},
   "outputs": [
    {
     "name": "stdout",
     "output_type": "stream",
     "text": [
      "A\n",
      "B\n",
      "C\n"
     ]
    }
   ],
   "source": [
    "i = iter(\"ABC\")\n",
    "for a in i:\n",
    "    print(a)"
   ]
  },
  {
   "cell_type": "code",
   "execution_count": 7,
   "id": "45099f6d-7417-459f-a762-636f41c61a54",
   "metadata": {},
   "outputs": [],
   "source": [
    "for a in i:\n",
    "    print(a)"
   ]
  },
  {
   "cell_type": "code",
   "execution_count": 10,
   "id": "78a6015a-2a08-442a-aae5-054909773a69",
   "metadata": {},
   "outputs": [
    {
     "name": "stdout",
     "output_type": "stream",
     "text": [
      "9\n",
      "8\n",
      "7\n",
      "6\n",
      "5\n",
      "4\n",
      "3\n",
      "2\n",
      "1\n",
      "0\n"
     ]
    }
   ],
   "source": [
    "class Count:\n",
    "    def __init__(self, depart):\n",
    "        self.depart = depart\n",
    "        self.current = depart\n",
    "        \n",
    "    def __next__(self):\n",
    "        if self.current == 0:\n",
    "            raise StopIteration\n",
    "        else:\n",
    "            self.current -= 1\n",
    "            return self.current\n",
    "            \n",
    "    def __iter__(self):\n",
    "        return self\n",
    "i = Count(10)\n",
    "for a in i:\n",
    "    print(a)\n",
    "for a in i:\n",
    "    print(a)"
   ]
  },
  {
   "cell_type": "code",
   "execution_count": 11,
   "id": "f3357335-335d-4e73-8cb3-f5a24181708b",
   "metadata": {},
   "outputs": [
    {
     "name": "stdout",
     "output_type": "stream",
     "text": [
      "9\n",
      "8\n",
      "7\n",
      "6\n",
      "5\n",
      "4\n",
      "3\n",
      "2\n",
      "1\n",
      "0\n",
      "9\n",
      "8\n",
      "7\n",
      "6\n",
      "5\n",
      "4\n",
      "3\n",
      "2\n",
      "1\n",
      "0\n"
     ]
    }
   ],
   "source": [
    "class CountState:\n",
    "    def __init__(self, depart):\n",
    "        self.depart = depart\n",
    "        self.current = depart\n",
    "        \n",
    "    def __next__(self):\n",
    "        if self.current == 0:\n",
    "            raise StopIteration\n",
    "        else:\n",
    "            self.current -= 1\n",
    "            return self.current\n",
    "class Count:\n",
    "    def __init__(self, depart):\n",
    "        self.depart = depart\n",
    "        \n",
    "    def __iter__(self):\n",
    "        return CountState(self.depart)\n",
    "\n",
    "i = Count(10)\n",
    "for a in i:\n",
    "    print(a)\n",
    "for a in i:\n",
    "    print(a)"
   ]
  },
  {
   "cell_type": "code",
   "execution_count": 13,
   "id": "f76eec42-e14e-48f1-8af8-5d6ccafab36e",
   "metadata": {},
   "outputs": [
    {
     "name": "stdout",
     "output_type": "stream",
     "text": [
      "9\n",
      "8\n",
      "7\n",
      "6\n",
      "5\n",
      "4\n",
      "3\n",
      "2\n",
      "1\n",
      "0\n",
      "9\n",
      "8\n",
      "7\n",
      "6\n",
      "5\n",
      "4\n",
      "3\n",
      "2\n",
      "1\n",
      "0\n"
     ]
    }
   ],
   "source": [
    "class CountState:\n",
    "    def __init__(self, depart):\n",
    "        self.depart = depart\n",
    "        self.current = depart\n",
    "        \n",
    "    def __next__(self):\n",
    "        if self.current == 0:\n",
    "            raise StopIteration\n",
    "        else:\n",
    "            self.current -= 1\n",
    "            return self.current\n",
    "            \n",
    "    def __iter__(self):\n",
    "        return CountState(self.depart)\n",
    "        \n",
    "\n",
    "i = CountState(10)\n",
    "for a in i:\n",
    "    print(a)\n",
    "for a in i:\n",
    "    print(a)"
   ]
  },
  {
   "cell_type": "code",
   "execution_count": 18,
   "id": "0ad68f1c-7d52-4f79-a3bd-8dce387ffaad",
   "metadata": {},
   "outputs": [
    {
     "name": "stdout",
     "output_type": "stream",
     "text": [
      "2\n",
      "3\n",
      "5\n",
      "7\n",
      "11\n",
      "13\n",
      "17\n",
      "19\n",
      "23\n",
      "29\n"
     ]
    }
   ],
   "source": [
    "class PrimeIteratorState:\n",
    "    def __init__(self, limit):\n",
    "        self.limit = limit\n",
    "        self.current = 2\n",
    "        \n",
    "    def __next__(self):\n",
    "        while self.current <= self.limit:\n",
    "            isprime = True\n",
    "            for i in range(2, self.current-1):\n",
    "                if self.current % i == 0:\n",
    "                    isprime = False\n",
    "                    break\n",
    "            if isprime:\n",
    "                self.current += 1\n",
    "                return self.current - 1\n",
    "            self.current += 1\n",
    "        raise StopIteration\n",
    "            \n",
    "class PrimeIterator:\n",
    "    def __init__(self, limit):\n",
    "        self.limit = limit\n",
    "        \n",
    "    def __iter__(self):\n",
    "        return PrimeIteratorState(self.limit)\n",
    "\n",
    "i = PrimeIterator(30)\n",
    "for a in i:\n",
    "    print(a)"
   ]
  },
  {
   "cell_type": "code",
   "execution_count": 20,
   "id": "769821ad-4b1a-46c8-ba08-85da32caf342",
   "metadata": {},
   "outputs": [
    {
     "name": "stdout",
     "output_type": "stream",
     "text": [
      "True\n"
     ]
    }
   ],
   "source": [
    "class Test:\n",
    "    def __contains__(self, x):\n",
    "        return True\n",
    "\n",
    "t = Test()\n",
    "\n",
    "print(\"A\" in t)\n",
    "\n"
   ]
  },
  {
   "cell_type": "code",
   "execution_count": 24,
   "id": "681c8faa-1e7a-4f3e-b1c4-87fc23977fea",
   "metadata": {},
   "outputs": [
    {
     "name": "stdout",
     "output_type": "stream",
     "text": [
      "['a', 'b', 'c']\n",
      "[(0, 'a'), (1, 'b'), (2, 'c')]\n"
     ]
    }
   ],
   "source": [
    "a = [\"A\", \"B\", \"C\"]\n",
    "for index, i in enumerate(a):\n",
    "    a[index] = i.lower()\n",
    "print(a)\n",
    "print(list(enumerate(a)))"
   ]
  },
  {
   "cell_type": "code",
   "execution_count": 1,
   "id": "a958c36d-eafb-4db7-9977-921f975b73ed",
   "metadata": {},
   "outputs": [
    {
     "name": "stdout",
     "output_type": "stream",
     "text": [
      "2\n",
      "5\n",
      "7\n",
      "11\n",
      "13\n",
      "17\n",
      "19\n",
      "23\n",
      "29\n"
     ]
    }
   ],
   "source": [
    "def generator(limit):\n",
    "    current = 2\n",
    "    while current <= limit:\n",
    "        isprime = True\n",
    "        for i in range(2, current-1):\n",
    "            if current % i == 0:\n",
    "                isprime = False\n",
    "                break\n",
    "        if isprime:\n",
    "            current += 1\n",
    "            yield current - 1\n",
    "        current += 1\n",
    "for i in generator(30):\n",
    "    print(i)"
   ]
  },
  {
   "cell_type": "code",
   "execution_count": null,
   "id": "ef4e4cee-dcc8-40a1-9c3f-a1490e067ea4",
   "metadata": {},
   "outputs": [],
   "source": []
  }
 ],
 "metadata": {
  "kernelspec": {
   "display_name": "Python 3 (ipykernel)",
   "language": "python",
   "name": "python3"
  },
  "language_info": {
   "codemirror_mode": {
    "name": "ipython",
    "version": 3
   },
   "file_extension": ".py",
   "mimetype": "text/x-python",
   "name": "python",
   "nbconvert_exporter": "python",
   "pygments_lexer": "ipython3",
   "version": "3.12.8"
  }
 },
 "nbformat": 4,
 "nbformat_minor": 5
}
