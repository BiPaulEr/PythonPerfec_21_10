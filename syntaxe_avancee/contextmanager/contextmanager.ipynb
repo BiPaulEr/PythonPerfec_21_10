{
 "cells": [
  {
   "cell_type": "code",
   "execution_count": 26,
   "id": "eadfaf8e-5ed7-4442-beec-b7d6673f747a",
   "metadata": {},
   "outputs": [
    {
     "name": "stdout",
     "output_type": "stream",
     "text": [
      "Ligne1\n",
      "Ligne2\n",
      "Ligne3\n",
      "LigneEnd\n"
     ]
    },
    {
     "ename": "UnsupportedOperation",
     "evalue": "not writable",
     "output_type": "error",
     "traceback": [
      "\u001b[31m---------------------------------------------------------------------------\u001b[39m",
      "\u001b[31mUnsupportedOperation\u001b[39m                      Traceback (most recent call last)",
      "\u001b[36mCell\u001b[39m\u001b[36m \u001b[39m\u001b[32mIn[26]\u001b[39m\u001b[32m, line 4\u001b[39m\n\u001b[32m      2\u001b[39m \u001b[38;5;28;01mfor\u001b[39;00m ligne \u001b[38;5;129;01min\u001b[39;00m file:\n\u001b[32m      3\u001b[39m     \u001b[38;5;28mprint\u001b[39m(ligne.strip())\n\u001b[32m----> \u001b[39m\u001b[32m4\u001b[39m \u001b[43mfile\u001b[49m\u001b[43m.\u001b[49m\u001b[43mwrite\u001b[49m\u001b[43m(\u001b[49m\u001b[33;43m\"\u001b[39;49m\u001b[33;43mFEKFEKF\u001b[39;49m\u001b[33;43m\"\u001b[39;49m\u001b[43m)\u001b[49m\n",
      "\u001b[31mUnsupportedOperation\u001b[39m: not writable"
     ]
    }
   ],
   "source": [
    "with open(\"fichier.txt\", \"r\") as file:\n",
    "    for ligne in file:\n",
    "        print(ligne.strip())\n",
    "    file.write(\"FEKFEKF\")\n",
    "    "
   ]
  },
  {
   "cell_type": "code",
   "execution_count": 7,
   "id": "523b55b4-46bc-471b-89ba-a98a01bfb302",
   "metadata": {},
   "outputs": [
    {
     "name": "stdout",
     "output_type": "stream",
     "text": [
      "Ligne1\n",
      "Ligne2\n",
      "Ligne3\n",
      "LigneEnd\n",
      "ERREUR GRAVE\n",
      "close\n"
     ]
    }
   ],
   "source": [
    "try:\n",
    "    file = open(\"fichier.txt\")\n",
    "    for ligne in file:\n",
    "        print(ligne.strip())\n",
    "    raise TypeError(\"ERREUR GRAVE\")\n",
    "except TypeError as te:\n",
    "    print(te)\n",
    "finally:\n",
    "    print(\"close\")\n",
    "    file.close()"
   ]
  },
  {
   "cell_type": "code",
   "execution_count": 12,
   "id": "06b5a30d-51e5-45c5-ba34-16b50b774457",
   "metadata": {},
   "outputs": [
    {
     "name": "stdout",
     "output_type": "stream",
     "text": [
      "Ligne1\n",
      "Ligne2\n",
      "Ligne3\n",
      "LigneEnd\n",
      "ERREUR GRAVE\n",
      "close\n",
      "Ligne1\n",
      "Ligne2\n",
      "Ligne3\n",
      "LigneEnd\n"
     ]
    }
   ],
   "source": [
    "try:\n",
    "    file = open(\"fichier.txt\")\n",
    "    for ligne in file:\n",
    "        print(ligne.strip())\n",
    "    raise TypeError(\"ERREUR GRAVE\")\n",
    "except TypeError as te:\n",
    "    print(te)\n",
    "finally:\n",
    "    print(\"close\")\n",
    "    file.close()\n",
    "\n",
    "with open(\"fichier.txt\") as file:\n",
    "    for ligne in file:\n",
    "        print(ligne.strip())"
   ]
  },
  {
   "cell_type": "code",
   "execution_count": 25,
   "id": "b7ea20cb-3b55-4b09-95ba-509682116a46",
   "metadata": {},
   "outputs": [
    {
     "name": "stdout",
     "output_type": "stream",
     "text": [
      "Rentrer dans le contexte\n",
      "OBJECT CONTEXT\n",
      "Je suis dans le contexte\n",
      "QUOI ya plus de pain\n"
     ]
    },
    {
     "ename": "OSError",
     "evalue": "QUOI ya plus de pain",
     "output_type": "error",
     "traceback": [
      "\u001b[31m---------------------------------------------------------------------------\u001b[39m",
      "\u001b[31mOSError\u001b[39m                                   Traceback (most recent call last)",
      "\u001b[36mCell\u001b[39m\u001b[36m \u001b[39m\u001b[32mIn[25]\u001b[39m\u001b[32m, line 22\u001b[39m\n\u001b[32m     20\u001b[39m     \u001b[38;5;28mprint\u001b[39m(contexte)\n\u001b[32m     21\u001b[39m     \u001b[38;5;28mprint\u001b[39m(\u001b[33m\"\u001b[39m\u001b[33mJe suis dans le contexte\u001b[39m\u001b[33m\"\u001b[39m)\n\u001b[32m---> \u001b[39m\u001b[32m22\u001b[39m     \u001b[38;5;28;01mraise\u001b[39;00m \u001b[38;5;167;01mOSError\u001b[39;00m(\u001b[33m\"\u001b[39m\u001b[33mQUOI ya plus de pain\u001b[39m\u001b[33m\"\u001b[39m)\n\u001b[32m     24\u001b[39m \u001b[38;5;28mprint\u001b[39m(\u001b[33m\"\u001b[39m\u001b[33mend\u001b[39m\u001b[33m\"\u001b[39m)\n",
      "\u001b[31mOSError\u001b[39m: QUOI ya plus de pain"
     ]
    }
   ],
   "source": [
    "class ContextManager:\n",
    "    def __enter__(self):\n",
    "        print(\"Rentrer dans le contexte\")\n",
    "        return \"OBJECT CONTEXT\"\n",
    "        \n",
    "    def __exit__(self, exception_type, except_instance, traceback):\n",
    "        if isinstance(except_instance, FileNotFoundError):\n",
    "            print(except_instance)\n",
    "            return True\n",
    "        if isinstance(except_instance, OSError):\n",
    "            print(except_instance)\n",
    "            return False\n",
    "        if isinstance(except_instance, Exception):\n",
    "            print(except_instance)\n",
    "            return True\n",
    "        print(\"sortie du contexte\")\n",
    "        return True\n",
    "\n",
    "with ContextManager() as contexte:\n",
    "    print(contexte)\n",
    "    print(\"Je suis dans le contexte\")\n",
    "    raise OSError(\"QUOI ya plus de pain\")\n",
    "\n",
    "print(\"end\")"
   ]
  },
  {
   "cell_type": "code",
   "execution_count": null,
   "id": "8e303e19-3e6a-4085-b8bf-45fca79f39c7",
   "metadata": {},
   "outputs": [],
   "source": [
    "with open(\"fichier.txt\") as file:\n",
    "    for ligne in file:\n",
    "        print(ligne.strip())\n",
    "\n",
    "class ContextManager:\n",
    "    def __enter__(self, path):\n",
    "        self.file = open(path)\n",
    "        return self.file \n",
    "        \n",
    "    def __exit__(self, exception_type, except_instance, traceback):\n",
    "        self.file.close()\n",
    "        return True"
   ]
  },
  {
   "cell_type": "code",
   "execution_count": 27,
   "id": "03d5dde5-a72f-4b7c-bf40-f4ecf6c51d19",
   "metadata": {},
   "outputs": [
    {
     "name": "stdout",
     "output_type": "stream",
     "text": [
      "Rentrer dans le contexte\n",
      "OBJECT CONTEXT\n",
      "Je suis dans le context\n",
      "sortie du contexte\n"
     ]
    }
   ],
   "source": [
    "from contextlib import contextmanager\n",
    "\n",
    "@contextmanager\n",
    "def contextmanager():\n",
    "    print(\"Rentrer dans le contexte\")\n",
    "    try:\n",
    "        yield \"OBJECT CONTEXT\"\n",
    "    except Exception as e:\n",
    "        print(f\"{e}\")\n",
    "    finally:\n",
    "        print(\"sortie du contexte\")\n",
    "\n",
    "with contextmanager() as object_ :\n",
    "    print(object_)\n",
    "    print(\"Je suis dans le context\")"
   ]
  },
  {
   "cell_type": "code",
   "execution_count": 30,
   "id": "60047367-1338-47fa-bf74-0308a348900c",
   "metadata": {},
   "outputs": [
    {
     "name": "stdout",
     "output_type": "stream",
     "text": [
      "Le patrone est Paul\n",
      "Paul\n"
     ]
    }
   ],
   "source": [
    "def decorateurclasse(classe):\n",
    "    classe.auteur =  \"Paul\"\n",
    "    classe.quiestlepatron = lambda self: print(f\"Le patrone est {self.auteur}\")\n",
    "    return classe\n",
    "    \n",
    "@decorateurclasse        #TEST = decorateurclasse(TEST)\n",
    "class TEST:\n",
    "    pass\n",
    "\n",
    "t = TEST()\n",
    "t.quiestlepatron()\n",
    "print(t.auteur)"
   ]
  },
  {
   "cell_type": "code",
   "execution_count": 35,
   "id": "422c01e9-3f81-4420-86d9-df0d8e5e8e34",
   "metadata": {},
   "outputs": [
    {
     "name": "stdout",
     "output_type": "stream",
     "text": [
      "Why do bananas have to put on sunscreen before they go to the beach? Because they might peel!\n"
     ]
    }
   ],
   "source": [
    "import requests\n",
    "session = requests.Session()\n",
    "headers = {\"Accept\": \"text/plain\"}\n",
    "response = session.get(\"https://icanhazdadjoke.com\", headers=headers)\n",
    "if response.status_code == 200:\n",
    "    print(response.text)\n",
    "session.close()\n"
   ]
  },
  {
   "cell_type": "code",
   "execution_count": 36,
   "id": "bd146080-2bcb-4e66-b8d2-29d3b3e61532",
   "metadata": {},
   "outputs": [
    {
     "name": "stdout",
     "output_type": "stream",
     "text": [
      "They say Dodger Stadium can hold up to fifty-six thousand people, but that is just a ballpark figure.\n"
     ]
    }
   ],
   "source": [
    "class HttpSessionManager():\n",
    "    def __enter__(self):\n",
    "        self.session = requests.Session()\n",
    "        return session\n",
    "        \n",
    "    def __exit__(self, exception_type, exception_instance, traceback):\n",
    "        self.session.close()\n",
    "        return True\n",
    "\n",
    "\n",
    "with HttpSessionManager() as session:\n",
    "    headers = {\"Accept\": \"text/plain\"}\n",
    "    response = session.get(\"https://icanhazdadjoke.com\", headers=headers)\n",
    "    if response.status_code == 200:\n",
    "        print(response.text)"
   ]
  },
  {
   "cell_type": "code",
   "execution_count": 9,
   "id": "5926923e-c81e-40d5-bf3a-beb095e98ffb",
   "metadata": {},
   "outputs": [
    {
     "name": "stdout",
     "output_type": "stream",
     "text": [
      "[Errno 2] No such file or directory: 'fichier_inexistant.txt'\n"
     ]
    }
   ],
   "source": [
    "try :\n",
    "    with open(\"fichier_inexistant.txt\", \"r\") as file:\n",
    "        for line in file:\n",
    "            print(line.strip())\n",
    "except FileNotFoundError as f:\n",
    "    print(f\"{f}\")"
   ]
  },
  {
   "cell_type": "code",
   "execution_count": 8,
   "id": "7e11eecd-a8e3-4ec8-beaf-3ddb08e756fc",
   "metadata": {},
   "outputs": [],
   "source": [
    "from contextlib import suppress\n",
    "\n",
    "with suppress(FileNotFoundError), open(\"fichier_inexistant.txt\", \"r\") as file:\n",
    "    for line in file:\n",
    "        print(line.strip())"
   ]
  },
  {
   "cell_type": "code",
   "execution_count": null,
   "id": "36d097e3-07f4-4716-b765-a5a0821a5b57",
   "metadata": {},
   "outputs": [],
   "source": []
  }
 ],
 "metadata": {
  "kernelspec": {
   "display_name": "Python 3 (ipykernel)",
   "language": "python",
   "name": "python3"
  },
  "language_info": {
   "codemirror_mode": {
    "name": "ipython",
    "version": 3
   },
   "file_extension": ".py",
   "mimetype": "text/x-python",
   "name": "python",
   "nbconvert_exporter": "python",
   "pygments_lexer": "ipython3",
   "version": "3.12.8"
  }
 },
 "nbformat": 4,
 "nbformat_minor": 5
}
