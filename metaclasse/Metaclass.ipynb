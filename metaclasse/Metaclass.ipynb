{
 "cells": [
  {
   "cell_type": "code",
   "execution_count": 4,
   "id": "f77275ff-38fe-43b2-8101-22623efbf66c",
   "metadata": {},
   "outputs": [
    {
     "name": "stdout",
     "output_type": "stream",
     "text": [
      "<class '__main__.MyClass'>\n",
      "<class 'type'>\n",
      "<__main__.MyClass object at 0x000001DB2DE29220>\n",
      "<class '__main__.MyClass'>\n"
     ]
    }
   ],
   "source": [
    "class MyClass:\n",
    "    pass\n",
    "print(MyClass)\n",
    "print(type(MyClass))\n",
    "instance = MyClass()\n",
    "print(instance)\n",
    "print(type(instance))"
   ]
  },
  {
   "cell_type": "code",
   "execution_count": 6,
   "id": "16d60061-d048-487b-b52a-dd680e227807",
   "metadata": {},
   "outputs": [
    {
     "name": "stdout",
     "output_type": "stream",
     "text": [
      "<class '__main__.MyClass'>\n",
      "['__class__', '__delattr__', '__dict__', '__dir__', '__doc__', '__eq__', '__format__', '__ge__', '__getattribute__', '__getstate__', '__gt__', '__hash__', '__init__', '__init_subclass__', '__le__', '__lt__', '__module__', '__ne__', '__new__', '__reduce__', '__reduce_ex__', '__repr__', '__setattr__', '__sizeof__', '__str__', '__subclasshook__', '__weakref__', 'methode']\n"
     ]
    }
   ],
   "source": [
    "class MyClass(object):\n",
    "    def methode(self):\n",
    "        return 1\n",
    "print(MyClass)\n",
    "print(dir(MyClass))\n",
    "\n"
   ]
  },
  {
   "cell_type": "code",
   "execution_count": 8,
   "id": "43a6c97b-ff02-4e61-8c26-4942d9ffd378",
   "metadata": {},
   "outputs": [
    {
     "name": "stdout",
     "output_type": "stream",
     "text": [
      "<class 'type'>\n",
      "<class '__main__.MyClass'>\n",
      "['__class__', '__delattr__', '__dict__', '__dir__', '__doc__', '__eq__', '__format__', '__ge__', '__getattribute__', '__getstate__', '__gt__', '__hash__', '__init__', '__init_subclass__', '__le__', '__lt__', '__module__', '__ne__', '__new__', '__reduce__', '__reduce_ex__', '__repr__', '__setattr__', '__sizeof__', '__str__', '__subclasshook__', '__weakref__', 'method']\n"
     ]
    }
   ],
   "source": [
    "def methode(self):\n",
    "    return 1\n",
    "MyClass = type(\"MyClass\", (object,), {\"method\": methode})\n",
    "print(type(MyClass))\n",
    "print(MyClass)\n",
    "print(dir(MyClass))"
   ]
  },
  {
   "cell_type": "code",
   "execution_count": null,
   "id": "286b5ac8-8fed-41fc-a8d1-045a0caa0e04",
   "metadata": {},
   "outputs": [],
   "source": []
  }
 ],
 "metadata": {
  "kernelspec": {
   "display_name": "Python 3 (ipykernel)",
   "language": "python",
   "name": "python3"
  },
  "language_info": {
   "codemirror_mode": {
    "name": "ipython",
    "version": 3
   },
   "file_extension": ".py",
   "mimetype": "text/x-python",
   "name": "python",
   "nbconvert_exporter": "python",
   "pygments_lexer": "ipython3",
   "version": "3.12.8"
  }
 },
 "nbformat": 4,
 "nbformat_minor": 5
}
