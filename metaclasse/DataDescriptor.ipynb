{
 "cells": [
  {
   "cell_type": "code",
   "execution_count": 17,
   "id": "f506e540-8957-4340-a6a9-38a5fa1a4b25",
   "metadata": {},
   "outputs": [
    {
     "name": "stdout",
     "output_type": "stream",
     "text": [
      "['__class__', '__delattr__', '__dict__', '__dir__', '__doc__', '__eq__', '__format__', '__ge__', '__getattribute__', '__getstate__', '__gt__', '__hash__', '__init__', '__init_subclass__', '__le__', '__lt__', '__module__', '__ne__', '__new__', '__reduce__', '__reduce_ex__', '__repr__', '__setattr__', '__sizeof__', '__str__', '__subclasshook__', '__weakref__', 'y']\n",
      "99\n",
      "{'z': -2, 'y': 99}\n"
     ]
    }
   ],
   "source": [
    "class MyClass:\n",
    "    y = 5\n",
    "    def __init__(self, z):\n",
    "        self.z = z\n",
    "print(dir(MyClass))\n",
    "myclass1 = MyClass(-1)\n",
    "myclass2 = MyClass(-2)\n",
    "\n",
    "myclass2.y = 99\n",
    "print(myclass2.y)\n",
    "print(myclass2.__dict__)\n"
   ]
  },
  {
   "cell_type": "code",
   "execution_count": 19,
   "id": "063ac12c-f1c6-4708-9608-06d5d337e981",
   "metadata": {},
   "outputs": [
    {
     "name": "stdout",
     "output_type": "stream",
     "text": [
      "Retrieving var \"x\"\n",
      "Updating var \"x\" to -2\n",
      "{}\n",
      "Retrieving var \"x\"\n",
      "10\n"
     ]
    }
   ],
   "source": [
    "class RevealAccess:\n",
    "    \"\"\"Un descripteur qui logge l'accès et la modification.\"\"\"\n",
    "    def __init__(self, initval=None, name='var'):\n",
    "        self.val = initval\n",
    "        self.name = name\n",
    "\n",
    "    def __get__(self, obj, objtype):\n",
    "        print(f'Retrieving {self.name}')\n",
    "        return self.val\n",
    "\n",
    "    def __set__(self, obj, val):\n",
    "        print(f'Updating {self.name} to {val}')\n",
    "        #self.val = val\n",
    "\n",
    "class MyClass:\n",
    "    x = RevealAccess(10, 'var \"x\"')\n",
    "    y = 5\n",
    "    \n",
    "m = MyClass()\n",
    "m.x\n",
    "m.x = -2\n",
    "print(m.__dict__)\n",
    "print(m.x)\n"
   ]
  },
  {
   "cell_type": "code",
   "execution_count": 26,
   "id": "8531addb-2c3d-411c-bf58-2154abf98731",
   "metadata": {},
   "outputs": [],
   "source": [
    "class LazyProperty:\n",
    "    def __init__(self, function):\n",
    "        self.function = function\n",
    "        self.value = None\n",
    "    def __get__(self, obj, objtype):\n",
    "        if self.value is None:\n",
    "            print(\"area is calculated\")\n",
    "            self.value = self.function(obj)\n",
    "        return self.value\n",
    "    def __set__(self,  obj, val):\n",
    "        pass\n",
    "\n",
    "class Circle:\n",
    "    area = LazyProperty(lambda self: 3.14 * self.radius**2)\n",
    "    def __init__(self, radius):\n",
    "        self.radius = radius\n",
    "\n",
    "circle1 = Circle(6)"
   ]
  },
  {
   "cell_type": "code",
   "execution_count": 27,
   "id": "eb7c9c00-b40b-48f0-b1af-af8f362eba4d",
   "metadata": {},
   "outputs": [
    {
     "data": {
      "text/plain": [
       "6"
      ]
     },
     "execution_count": 27,
     "metadata": {},
     "output_type": "execute_result"
    }
   ],
   "source": [
    "circle1.radius"
   ]
  },
  {
   "cell_type": "code",
   "execution_count": 28,
   "id": "14d8b53c-0a9d-4562-bc29-a38a72ec0252",
   "metadata": {},
   "outputs": [
    {
     "name": "stdout",
     "output_type": "stream",
     "text": [
      "area is calculated\n"
     ]
    },
    {
     "data": {
      "text/plain": [
       "113.04"
      ]
     },
     "execution_count": 28,
     "metadata": {},
     "output_type": "execute_result"
    }
   ],
   "source": [
    "circle1.area"
   ]
  },
  {
   "cell_type": "code",
   "execution_count": 29,
   "id": "cba707fa-3233-4116-9517-9a81c69827da",
   "metadata": {},
   "outputs": [
    {
     "data": {
      "text/plain": [
       "113.04"
      ]
     },
     "execution_count": 29,
     "metadata": {},
     "output_type": "execute_result"
    }
   ],
   "source": [
    "circle1.area"
   ]
  },
  {
   "cell_type": "code",
   "execution_count": 30,
   "id": "28cd545f-252c-4ab4-a2df-c829ba0f5106",
   "metadata": {},
   "outputs": [],
   "source": [
    "circle1.area = 56"
   ]
  },
  {
   "cell_type": "code",
   "execution_count": 31,
   "id": "2c0ae5ed-e4f0-42f0-9f3b-cd1790d0b219",
   "metadata": {},
   "outputs": [
    {
     "data": {
      "text/plain": [
       "113.04"
      ]
     },
     "execution_count": 31,
     "metadata": {},
     "output_type": "execute_result"
    }
   ],
   "source": [
    "circle1.area "
   ]
  },
  {
   "cell_type": "code",
   "execution_count": 44,
   "id": "d9bcb624-26b0-4a91-a632-86e0df1fa26a",
   "metadata": {},
   "outputs": [],
   "source": [
    "class Rectangle:\n",
    "    def __init__(self, x1, x2, y1, y2):\n",
    "        self.x1 = x1\n",
    "        self.x2 = x2\n",
    "        self.y1 = y1\n",
    "        self.y2 = y2\n",
    "        \n",
    "    @property\n",
    "    def width(self):\n",
    "        \"\"\" c'est la largeur du rectangle\"\"\"\n",
    "        return self.x2 - self.x1\n",
    "        \n",
    "    @width.setter\n",
    "    def width(self, value):\n",
    "        \"\"\" ca bouge self.x2 pour correspondre a la largeur\"\"\"\n",
    "        self.x2 = self.x1 + value\n",
    "\n",
    "rectangle = Rectangle(0, 10, 1, 11)"
   ]
  },
  {
   "cell_type": "code",
   "execution_count": 45,
   "id": "22971d02-af4d-4f9c-996a-3fc498d23ebf",
   "metadata": {},
   "outputs": [
    {
     "data": {
      "text/plain": [
       "10"
      ]
     },
     "execution_count": 45,
     "metadata": {},
     "output_type": "execute_result"
    }
   ],
   "source": [
    "rectangle.width"
   ]
  },
  {
   "cell_type": "code",
   "execution_count": 46,
   "id": "b302bc80-fd4f-4300-8074-cce42f48244d",
   "metadata": {},
   "outputs": [],
   "source": [
    "rectangle.width = 20\n"
   ]
  },
  {
   "cell_type": "code",
   "execution_count": 47,
   "id": "c1360577-6fc0-4ee2-9831-97ed50a44ef2",
   "metadata": {},
   "outputs": [
    {
     "data": {
      "text/plain": [
       "20"
      ]
     },
     "execution_count": 47,
     "metadata": {},
     "output_type": "execute_result"
    }
   ],
   "source": [
    "rectangle.x2"
   ]
  },
  {
   "cell_type": "code",
   "execution_count": 48,
   "id": "d0808e4a-14f5-4379-a118-b8dcf326c540",
   "metadata": {},
   "outputs": [
    {
     "name": "stdout",
     "output_type": "stream",
     "text": [
      "Help on class Rectangle in module __main__:\n",
      "\n",
      "class Rectangle(builtins.object)\n",
      " |  Rectangle(x1, x2, y1, y2)\n",
      " |\n",
      " |  Methods defined here:\n",
      " |\n",
      " |  __init__(self, x1, x2, y1, y2)\n",
      " |      Initialize self.  See help(type(self)) for accurate signature.\n",
      " |\n",
      " |  ----------------------------------------------------------------------\n",
      " |  Data descriptors defined here:\n",
      " |\n",
      " |  __dict__\n",
      " |      dictionary for instance variables\n",
      " |\n",
      " |  __weakref__\n",
      " |      list of weak references to the object\n",
      " |\n",
      " |  width\n",
      " |      c'est la largeur du rectangle\n",
      "\n"
     ]
    }
   ],
   "source": [
    "help(Rectangle)"
   ]
  },
  {
   "cell_type": "code",
   "execution_count": 60,
   "id": "8972e954-841f-4691-b9d6-1cc748ae9806",
   "metadata": {},
   "outputs": [
    {
     "name": "stdout",
     "output_type": "stream",
     "text": [
      "15\n",
      "Zombie ?\n",
      " Ephad ?\n",
      " PAs bon type\n",
      "66\n"
     ]
    }
   ],
   "source": [
    "class Age:\n",
    "    def __init__(self, age):\n",
    "        self.age = age\n",
    "        \n",
    "    @property\n",
    "    def age(self):\n",
    "        return self.__age\n",
    "        \n",
    "    @age.setter\n",
    "    def age(self, value):\n",
    "        if value < 0:\n",
    "            print(\"Zombie ?\")\n",
    "        elif value > 130:\n",
    "            print(\" Ephad ?\")\n",
    "        elif not isinstance(value, int):\n",
    "            print(\" PAs bon type\")\n",
    "        else:\n",
    "            self.__age = value\n",
    "\n",
    "age1 = Age(15)\n",
    "\n",
    "print(age1.age)\n",
    "age1.age = -1\n",
    "age1.age = 140\n",
    "age1.age = 5.6\n",
    "age1.age = 66\n",
    "print(age1.age)\n",
    "    "
   ]
  },
  {
   "cell_type": "code",
   "execution_count": 61,
   "id": "0fa1e587-d271-4353-bafc-be38921be623",
   "metadata": {},
   "outputs": [
    {
     "name": "stdout",
     "output_type": "stream",
     "text": [
      "Zombie ?\n"
     ]
    }
   ],
   "source": [
    "age2 = Age(-1)"
   ]
  },
  {
   "cell_type": "code",
   "execution_count": 62,
   "id": "60c1cdee-0ee0-41b0-bcce-71ee4ca58c99",
   "metadata": {},
   "outputs": [
    {
     "ename": "AttributeError",
     "evalue": "'Age' object has no attribute '_Age__age'",
     "output_type": "error",
     "traceback": [
      "\u001b[31m---------------------------------------------------------------------------\u001b[39m",
      "\u001b[31mAttributeError\u001b[39m                            Traceback (most recent call last)",
      "\u001b[36mCell\u001b[39m\u001b[36m \u001b[39m\u001b[32mIn[62]\u001b[39m\u001b[32m, line 1\u001b[39m\n\u001b[32m----> \u001b[39m\u001b[32m1\u001b[39m \u001b[43mage2\u001b[49m\u001b[43m.\u001b[49m\u001b[43mage\u001b[49m\n",
      "\u001b[36mCell\u001b[39m\u001b[36m \u001b[39m\u001b[32mIn[60]\u001b[39m\u001b[32m, line 7\u001b[39m, in \u001b[36mAge.age\u001b[39m\u001b[34m(self)\u001b[39m\n\u001b[32m      5\u001b[39m \u001b[38;5;129m@property\u001b[39m\n\u001b[32m      6\u001b[39m \u001b[38;5;28;01mdef\u001b[39;00m\u001b[38;5;250m \u001b[39m\u001b[34mage\u001b[39m(\u001b[38;5;28mself\u001b[39m):\n\u001b[32m----> \u001b[39m\u001b[32m7\u001b[39m     \u001b[38;5;28;01mreturn\u001b[39;00m \u001b[38;5;28;43mself\u001b[39;49m\u001b[43m.\u001b[49m\u001b[43m__age\u001b[49m\n",
      "\u001b[31mAttributeError\u001b[39m: 'Age' object has no attribute '_Age__age'"
     ]
    }
   ],
   "source": [
    "age2.age"
   ]
  },
  {
   "cell_type": "code",
   "execution_count": null,
   "id": "62750218-5b1a-4b6b-bb7c-d2c51f18f45d",
   "metadata": {},
   "outputs": [],
   "source": []
  },
  {
   "cell_type": "code",
   "execution_count": null,
   "id": "69760e33-09c6-4483-a6c8-aec0063a8b09",
   "metadata": {},
   "outputs": [],
   "source": []
  }
 ],
 "metadata": {
  "kernelspec": {
   "display_name": "Python 3 (ipykernel)",
   "language": "python",
   "name": "python3"
  },
  "language_info": {
   "codemirror_mode": {
    "name": "ipython",
    "version": 3
   },
   "file_extension": ".py",
   "mimetype": "text/x-python",
   "name": "python",
   "nbconvert_exporter": "python",
   "pygments_lexer": "ipython3",
   "version": "3.12.8"
  }
 },
 "nbformat": 4,
 "nbformat_minor": 5
}
