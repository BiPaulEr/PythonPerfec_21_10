{
 "cells": [
  {
   "cell_type": "code",
   "execution_count": 7,
   "id": "f1a4be69-2b21-49b1-bb35-3a3a9b83088f",
   "metadata": {},
   "outputs": [
    {
     "name": "stdout",
     "output_type": "stream",
     "text": [
      "C A B B "
     ]
    }
   ],
   "source": [
    "class A(object):\n",
    "    def __init__(self):\n",
    "        print(\"A\", end=\" \")\n",
    "        super().__init__()\n",
    "\n",
    "class B:\n",
    "    def __init__(self):\n",
    "        print(\"B\", end=\" \")\n",
    "        super().__init__()\n",
    "\n",
    "class C(A, B):\n",
    "    def __init__(self):\n",
    "        print(\"C\", end=\" \")\n",
    "        A.__init__(self)\n",
    "        B.__init__(self)\n",
    "\n",
    "c = C()"
   ]
  },
  {
   "cell_type": "code",
   "execution_count": 20,
   "id": "7d437fda-1cc2-417e-b7c5-6ca2cdacb3f0",
   "metadata": {},
   "outputs": [
    {
     "name": "stdout",
     "output_type": "stream",
     "text": [
      "C A A_ B B_ "
     ]
    }
   ],
   "source": [
    "class A(object):\n",
    "    def __init__(self, caratere, *args, **kwargs):\n",
    "        self.a = caratere\n",
    "        print(\"A\", self.a, end=\" \")\n",
    "        super().__init__(*args, **kwargs)\n",
    "\n",
    "class B:\n",
    "    def __init__(self, caratere, *args, **kwargs):\n",
    "        self.b = caratere\n",
    "        print(\"B\", self.b, end=\" \")\n",
    "        super().__init__(*args, **kwargs)\n",
    "\n",
    "class C(A, B):\n",
    "    def __init__(self, caractere_a, caractere_b):\n",
    "        print(\"C\", end=\" \")\n",
    "        super().__init__(caractere_a, caractere_b)\n",
    "\n",
    "c = C(\"A_\", \"B_\")"
   ]
  },
  {
   "cell_type": "code",
   "execution_count": null,
   "id": "a32657cc-bd7e-4e0e-b06f-c956e238e18c",
   "metadata": {},
   "outputs": [],
   "source": [
    "class MyClass:\n",
    "    def __init__(self):\n",
    "        self.a = 3\n",
    "        \n",
    "    def method(self):\n",
    "        self.a\n",
    "        \n",
    "class MyClassHere(MyClass):\n",
    "    def method2(self):\n",
    "        self.a     \n",
    "        \n",
    "myclass = MyClass()\n",
    "\n",
    "myclass.a\n",
    "\n"
   ]
  },
  {
   "cell_type": "code",
   "execution_count": 16,
   "id": "c098dfc8-2282-43f4-88e3-6710cdc932e8",
   "metadata": {},
   "outputs": [
    {
     "name": "stdout",
     "output_type": "stream",
     "text": [
      "5\n",
      "3\n",
      "['_MyClass__private_attr', '__class__', '__delattr__', '__dict__', '__dir__', '__doc__', '__eq__', '__format__', '__ge__', '__getattribute__', '__getstate__', '__gt__', '__hash__', '__init__', '__init_subclass__', '__le__', '__lt__', '__module__', '__ne__', '__new__', '__reduce__', '__reduce_ex__', '__repr__', '__setattr__', '__sizeof__', '__str__', '__subclasshook__', '__weakref__', '_protected_attr', 'method', 'public_attr']\n",
      "5\n"
     ]
    }
   ],
   "source": [
    "class MyClass:\n",
    "    def __init__(self):\n",
    "        self._protected_attr = 3\n",
    "        self.public_attr = 4\n",
    "        self.__private_attr = 5\n",
    "\n",
    "    def method(self):\n",
    "        print(self.__private_attr)\n",
    "        \n",
    "myclass = MyClass()\n",
    "myclass.method()\n",
    "print(myclass._protected_attr)\n",
    "print(dir(myclass))\n",
    "print(myclass._MyClass__private_attr)\n",
    "#print(myclass.__private_attr)\n"
   ]
  },
  {
   "cell_type": "code",
   "execution_count": null,
   "id": "f83d8e16-c6b1-4996-b9d5-c9d9ccc94e70",
   "metadata": {},
   "outputs": [],
   "source": []
  }
 ],
 "metadata": {
  "kernelspec": {
   "display_name": "Python 3 (ipykernel)",
   "language": "python",
   "name": "python3"
  },
  "language_info": {
   "codemirror_mode": {
    "name": "ipython",
    "version": 3
   },
   "file_extension": ".py",
   "mimetype": "text/x-python",
   "name": "python",
   "nbconvert_exporter": "python",
   "pygments_lexer": "ipython3",
   "version": "3.12.8"
  }
 },
 "nbformat": 4,
 "nbformat_minor": 5
}
